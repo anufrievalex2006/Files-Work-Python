{
 "cells": [
  {
   "cell_type": "code",
   "execution_count": 18,
   "metadata": {},
   "outputs": [
    {
     "name": "stdout",
     "output_type": "stream",
     "text": [
      "26 1695\n"
     ]
    }
   ],
   "source": [
    "import random\n",
    "\n",
    "m = [random.randint(-1000, 1001) for i in range(10000)]\n",
    "'''\n",
    "CONDITION:\n",
    "Two elems can be divided by the minimum number that ends with 20\n",
    "'''\n",
    "c = mx = 0\n",
    "qmin = min([i for i in m if abs(i) % 100 == 20])\n",
    "for i in range(len(m)-1):\n",
    "    if (m[i] % qmin == 0) or (m[i+1] % qmin == 0):\n",
    "        c += 1\n",
    "        mx = m[i] + m[i+1] if mx < m[i] + m[i+1] else mx\n",
    "\n",
    "print(c,mx)"
   ]
  }
 ],
 "metadata": {
  "kernelspec": {
   "display_name": "Python 3.11.1 64-bit",
   "language": "python",
   "name": "python3"
  },
  "language_info": {
   "codemirror_mode": {
    "name": "ipython",
    "version": 3
   },
   "file_extension": ".py",
   "mimetype": "text/x-python",
   "name": "python",
   "nbconvert_exporter": "python",
   "pygments_lexer": "ipython3",
   "version": "3.11.1"
  },
  "orig_nbformat": 4,
  "vscode": {
   "interpreter": {
    "hash": "e993b55ef17ca2b14e700304c69059a161d85f2ab4a61e537a37ab8c54d34007"
   }
  }
 },
 "nbformat": 4,
 "nbformat_minor": 2
}
